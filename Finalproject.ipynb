{
 "cells": [
  {
   "cell_type": "markdown",
   "metadata": {},
   "source": [
    "# The midterm report and 5-minute presentation should include the following.\n",
    "\n",
    "- Preliminary visualizations of data.\n",
    "- Detailed description of data processing done so far.\n",
    "- Detailed description of data modeling methods used so far.\n",
    "- Preliminary results. (e.g. we fit a linear model to the data and we achieve promising results, or we did some clustering and we notice a clear pattern in the data)\n",
    "\n",
    "We expect to see preliminary code in your project repo at this point.\n",
    "\n",
    "Your report should be submitted as README.md in your project GitHub repo.\n",
    "\n",
    "The 5-minute presentation should be a recording uploaded to YouTube. Please add the video link to the beginning of your report."
   ]
  },
  {
   "cell_type": "markdown",
   "metadata": {},
   "source": [
    "# Visualizations of Data"
   ]
  },
  {
   "cell_type": "code",
   "execution_count": 2,
   "metadata": {},
   "outputs": [],
   "source": [
    "import pandas as pd\n",
    "import numpy as np\n",
    "\n",
    "df = pd.read_csv('./data/aml_ohsu_2022_clinical_data.tsv', sep='\\t') # load the data (tsv file so need to specify sep)\n"
   ]
  },
  {
   "cell_type": "markdown",
   "metadata": {},
   "source": [
    "## Data "
   ]
  },
  {
   "cell_type": "code",
   "execution_count": null,
   "metadata": {},
   "outputs": [],
   "source": [
    "# 1. Check basic info of the data\n",
    "df.info() # check the basic info of the data\n",
    "df.shape # check the shape of the data\n",
    "\n",
    "# 2. Check the first few rows of the data\n",
    "df.head() # check the first few rows of the data\n",
    "df.tail() # check the last few rows of the data\n",
    "\n",
    "# 3. Check the columns of the data\n",
    "df.describe() # only numeric columns\n",
    "df.describe(include='all') # include all columns\n",
    "\n",
    "# 4. Check the missing values\n",
    "df.isnull().sum() # check the missing values\n",
    "df.isnull().sum()/len(df) * 100 # check the percentage of missing values\n",
    "\n",
    "# 5. Check the unique values\n",
    "df.duplicated().sum() # check the number of duplicated rows\n",
    "df.duplicated().sum()/len(df) * 100 # check the percentage of duplicated rows\n",
    "\n",
    "# 6. Check the unique values in each column\n",
    "df.columns # check the columns of the data\n",
    "df.describe(include='all')"
   ]
  },
  {
   "cell_type": "code",
   "execution_count": null,
   "metadata": {},
   "outputs": [],
   "source": [
    "import seaborn as sns\n",
    "import matplotlib.pyplot as plt\n",
    "\n",
    "# Histogram\n",
    "df['column_name'].hist()\n",
    "\n",
    "# Boxplot\n",
    "sns.boxplot(data=df, x='column_name')\n",
    "\n",
    "# Correlation heatmap\n",
    "plt.figure(figsize=(10,8))\n",
    "sns.heatmap(df.corr(), annot=True, cmap='coolwarm')\n",
    "\n",
    "# Scatterplot\n",
    "sns.scatterplot(data=df, x='column1', y='column2')\n",
    "\n",
    "# Distribution plot\n",
    "sns.distplot(df['column_name'])\n"
   ]
  }
 ],
 "metadata": {
  "kernelspec": {
   "display_name": "Python 3",
   "language": "python",
   "name": "python3"
  },
  "language_info": {
   "codemirror_mode": {
    "name": "ipython",
    "version": 3
   },
   "file_extension": ".py",
   "mimetype": "text/x-python",
   "name": "python",
   "nbconvert_exporter": "python",
   "pygments_lexer": "ipython3",
   "version": "3.12.0"
  }
 },
 "nbformat": 4,
 "nbformat_minor": 2
}
