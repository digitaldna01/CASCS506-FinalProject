{
 "cells": [
  {
   "cell_type": "code",
   "execution_count": 1,
   "metadata": {},
   "outputs": [],
   "source": [
    "import pandas as pd\n",
    "import seaborn as sns\n",
    "import matplotlib.pyplot as plt\n",
    "# Load the TSV Data File\n",
    "# df = pd.read_csv('./data/aml_ohsu_2022_clinical_data.tsv', sep='\\t') # load the data (tsv file so need to specify sep)\n",
    "df = pd.read_csv('./data/breast_cancer.csv') # load the data "
   ]
  },
  {
   "cell_type": "code",
   "execution_count": 5,
   "metadata": {},
   "outputs": [],
   "source": [
    "df.to_csv(\"./data/preprocessed.csv\", index=False)"
   ]
  },
  {
   "cell_type": "code",
   "execution_count": 1,
   "metadata": {},
   "outputs": [
    {
     "name": "stdout",
     "output_type": "stream",
     "text": [
      "(408, 45)\n",
      "(136, 45)\n",
      "(408,)\n",
      "(136,)\n",
      "split data...\n"
     ]
    }
   ],
   "source": [
    "# STEP 4 MODEL TRAINING\n",
    "from sklearn.model_selection import train_test_split\n",
    "import pandas as pd\n",
    "import seaborn as sns\n",
    "import matplotlib.pyplot as plt\n",
    "\n",
    "df = pd.read_csv('./data/preprocessed.csv')\n",
    "train = df\n",
    "train = train.drop(columns='id')\n",
    "X_train = train[train['diagnosis'].notnull()]\n",
    "\n",
    "X_train, X_test, Y_train, Y_test = train_test_split(\n",
    "    X_train.drop(columns=['diagnosis']),\n",
    "    X_train['diagnosis'],\n",
    "    test_size=1/4.0,\n",
    "    random_state=0\n",
    ")\n",
    "print(X_train.shape)\n",
    "print(X_test.shape)\n",
    "print(Y_train.shape)\n",
    "print(Y_test.shape)\n",
    "print(\"split data...\")\n",
    "\n",
    "X_train = X_train.to_numpy()\n",
    "X_test = X_test.to_numpy()\n",
    "Y_train = Y_train.to_numpy()\n",
    "Y_test = Y_test.to_numpy()"
   ]
  },
  {
   "cell_type": "code",
   "execution_count": 3,
   "metadata": {},
   "outputs": [
    {
     "name": "stdout",
     "output_type": "stream",
     "text": [
      "fitting %dth iteration 0\n",
      "fitting %dth iteration 1\n",
      "fitting %dth iteration 2\n",
      "fitting %dth iteration 3\n",
      "fitting %dth iteration 4\n",
      "fitting %dth iteration 5\n",
      "fitting %dth iteration 6\n",
      "fitting %dth iteration 7\n",
      "fitting %dth iteration 8\n",
      "fitting %dth iteration 9\n",
      "fitting %dth iteration 10\n",
      "fitting %dth iteration 11\n",
      "fitting %dth iteration 12\n",
      "fitting %dth iteration 13\n",
      "fitting %dth iteration 14\n",
      "fitting %dth iteration 15\n",
      "fitting %dth iteration 16\n",
      "fitting %dth iteration 17\n",
      "fitting %dth iteration 18\n",
      "fitting %dth iteration 19\n",
      "fitting %dth iteration 20\n",
      "fitting %dth iteration 21\n",
      "fitting %dth iteration 22\n",
      "fitting %dth iteration 23\n",
      "fitting %dth iteration 24\n",
      "fitting %dth iteration 25\n",
      "fitting %dth iteration 26\n",
      "fitting %dth iteration 27\n",
      "fitting %dth iteration 28\n",
      "fitting %dth iteration 29\n",
      "fitting %dth iteration 30\n",
      "fitting %dth iteration 31\n",
      "fitting %dth iteration 32\n",
      "fitting %dth iteration 33\n",
      "fitting %dth iteration 34\n",
      "fitting %dth iteration 35\n",
      "fitting %dth iteration 36\n",
      "fitting %dth iteration 37\n",
      "fitting %dth iteration 38\n",
      "fitting %dth iteration 39\n",
      "fitting %dth iteration 40\n",
      "fitting %dth iteration 41\n",
      "fitting %dth iteration 42\n",
      "fitting %dth iteration 43\n",
      "fitting %dth iteration 44\n",
      "fitting %dth iteration 45\n",
      "fitting %dth iteration 46\n",
      "fitting %dth iteration 47\n",
      "fitting %dth iteration 48\n",
      "fitting %dth iteration 49\n",
      "fitting %dth iteration 50\n",
      "fitting %dth iteration 51\n",
      "fitting %dth iteration 52\n",
      "fitting %dth iteration 53\n",
      "fitting %dth iteration 54\n",
      "fitting %dth iteration 55\n",
      "fitting %dth iteration 56\n",
      "fitting %dth iteration 57\n",
      "fitting %dth iteration 58\n",
      "fitting %dth iteration 59\n",
      "fitting %dth iteration 60\n",
      "fitting %dth iteration 61\n",
      "fitting %dth iteration 62\n",
      "fitting %dth iteration 63\n",
      "fitting %dth iteration 64\n",
      "fitting %dth iteration 65\n",
      "fitting %dth iteration 66\n",
      "fitting %dth iteration 67\n",
      "fitting %dth iteration 68\n",
      "fitting %dth iteration 69\n",
      "fitting %dth iteration 70\n",
      "fitting %dth iteration 71\n",
      "fitting %dth iteration 72\n",
      "fitting %dth iteration 73\n",
      "fitting %dth iteration 74\n",
      "fitting %dth iteration 75\n",
      "fitting %dth iteration 76\n",
      "fitting %dth iteration 77\n",
      "fitting %dth iteration 78\n",
      "fitting %dth iteration 79\n",
      "fitting %dth iteration 80\n",
      "fitting %dth iteration 81\n",
      "fitting %dth iteration 82\n",
      "fitting %dth iteration 83\n",
      "fitting %dth iteration 84\n",
      "fitting %dth iteration 85\n",
      "fitting %dth iteration 86\n",
      "fitting %dth iteration 87\n",
      "fitting %dth iteration 88\n",
      "fitting %dth iteration 89\n",
      "fitting %dth iteration 90\n",
      "fitting %dth iteration 91\n",
      "fitting %dth iteration 92\n",
      "fitting %dth iteration 93\n",
      "fitting %dth iteration 94\n",
      "fitting %dth iteration 95\n",
      "fitting %dth iteration 96\n",
      "fitting %dth iteration 97\n",
      "fitting %dth iteration 98\n",
      "fitting %dth iteration 99\n",
      "Accuracy on testing set =  0.9264705882352942\n"
     ]
    }
   ],
   "source": [
    "from xgboost_from_chat import XGBoostFromScratch\n",
    "from sklearn.metrics import accuracy_score, confusion_matrix\n",
    "\n",
    "xgb = XGBoostFromScratch()\n",
    "\n",
    "xgb.fit(X_train, Y_train)\n",
    "\n",
    "y_pred = xgb.predict(X_test)\n",
    "\n",
    "print(\"Accuracy on testing set = \", accuracy_score(Y_test, y_pred))"
   ]
  },
  {
   "cell_type": "code",
   "execution_count": 2,
   "metadata": {},
   "outputs": [],
   "source": [
    "from xgboost_from_chat import XGBoostFromScratch\n",
    "from sklearn.metrics import accuracy_score, confusion_matrix\n",
    "\n",
    "model = XGBoostFromScratch(n_estimators=100, max_depth=3, learning_rate=0.1)"
   ]
  },
  {
   "cell_type": "code",
   "execution_count": 3,
   "metadata": {},
   "outputs": [
    {
     "name": "stdout",
     "output_type": "stream",
     "text": [
      "max_depth=3, min_child_weight=1, Accuracy=0.9338235294117647\n",
      "max_depth=3, min_child_weight=3, Accuracy=0.9411764705882353\n",
      "max_depth=3, min_child_weight=5, Accuracy=0.9338235294117647\n",
      "max_depth=5, min_child_weight=1, Accuracy=0.9558823529411765\n",
      "max_depth=5, min_child_weight=3, Accuracy=0.9411764705882353\n",
      "max_depth=5, min_child_weight=5, Accuracy=0.9485294117647058\n",
      "max_depth=7, min_child_weight=1, Accuracy=0.9558823529411765\n",
      "max_depth=7, min_child_weight=3, Accuracy=0.9558823529411765\n",
      "max_depth=7, min_child_weight=5, Accuracy=0.9485294117647058\n"
     ]
    }
   ],
   "source": [
    "for max_depth in [3, 5, 7]:\n",
    "    for min_child_weight in [1, 3, 5]:\n",
    "        model = XGBoostFromScratch(n_estimators=100, max_depth=max_depth, learning_rate=0.1, min_child_weight=min_child_weight)\n",
    "        model.fit(X_train, Y_train)\n",
    "        y_pred = model.predict(X_test)\n",
    "        print(f\"max_depth={max_depth}, min_child_weight={min_child_weight}, Accuracy={accuracy_score(Y_test, y_pred)}\")\n"
   ]
  },
  {
   "cell_type": "code",
   "execution_count": 4,
   "metadata": {},
   "outputs": [
    {
     "name": "stdout",
     "output_type": "stream",
     "text": [
      "learning_rate=0.01, n_estimators=50, Accuracy=0.6397058823529411\n",
      "learning_rate=0.01, n_estimators=100, Accuracy=0.9264705882352942\n",
      "learning_rate=0.01, n_estimators=200, Accuracy=0.9485294117647058\n",
      "learning_rate=0.1, n_estimators=50, Accuracy=0.9558823529411765\n",
      "learning_rate=0.1, n_estimators=100, Accuracy=0.9558823529411765\n",
      "learning_rate=0.1, n_estimators=200, Accuracy=0.9558823529411765\n",
      "learning_rate=0.2, n_estimators=50, Accuracy=0.9485294117647058\n",
      "learning_rate=0.2, n_estimators=100, Accuracy=0.9485294117647058\n",
      "learning_rate=0.2, n_estimators=200, Accuracy=0.9485294117647058\n"
     ]
    }
   ],
   "source": [
    "for learning_rate in [0.01, 0.1, 0.2]:\n",
    "    for n_estimators in [50, 100, 200]:\n",
    "        model = XGBoostFromScratch(n_estimators=n_estimators, max_depth=7, learning_rate=learning_rate, min_child_weight=3)\n",
    "        model.fit(X_train, Y_train)\n",
    "        y_pred = model.predict(X_test)\n",
    "        print(f\"learning_rate={learning_rate}, n_estimators={n_estimators}, Accuracy={accuracy_score(Y_test, y_pred)}\")\n"
   ]
  },
  {
   "cell_type": "code",
   "execution_count": 6,
   "metadata": {},
   "outputs": [
    {
     "name": "stdout",
     "output_type": "stream",
     "text": [
      "lambda_=0, Accuracy=0.9558823529411765\n",
      "lambda_=0.1, Accuracy=0.9558823529411765\n",
      "lambda_=1, Accuracy=0.9558823529411765\n",
      "lambda_=10, Accuracy=0.9338235294117647\n"
     ]
    }
   ],
   "source": [
    "for lambda_ in [0, 0.1, 1, 10]:\n",
    "    model = XGBoostFromScratch(n_estimators=200, max_depth=7, learning_rate=0.1, lambda_=lambda_, min_child_weight=3)\n",
    "    model.fit(X_train, Y_train)\n",
    "    y_pred = model.predict(X_test)\n",
    "    print(f\"lambda_={lambda_}, Accuracy={accuracy_score(Y_test, y_pred)}\")\n"
   ]
  },
  {
   "cell_type": "code",
   "execution_count": 7,
   "metadata": {},
   "outputs": [
    {
     "name": "stdout",
     "output_type": "stream",
     "text": [
      "gamma=0, Accuracy=0.9558823529411765\n",
      "gamma=1, Accuracy=0.9411764705882353\n",
      "gamma=5, Accuracy=0.9264705882352942\n"
     ]
    }
   ],
   "source": [
    "for gamma in [0, 1, 5]:\n",
    "    model = XGBoostFromScratch(n_estimators=200, max_depth=7, learning_rate=0.1, min_child_weight=3, lambda_=0, gamma=gamma)\n",
    "    model.fit(X_train, Y_train)\n",
    "    y_pred = model.predict(X_test)\n",
    "    print(f\"gamma={gamma}, Accuracy={accuracy_score(Y_test, y_pred)}\")\n",
    "    # gamma는 직접 로직에 추가해야 합니다. split gain 계산에 반영."
   ]
  },
  {
   "cell_type": "code",
   "execution_count": 8,
   "metadata": {},
   "outputs": [
    {
     "name": "stdout",
     "output_type": "stream",
     "text": [
      "Accuracy on testing set =  0.9558823529411765\n"
     ]
    }
   ],
   "source": [
    "fine_tuned_model =  XGBoostFromScratch(n_estimators=200, max_depth=7, learning_rate=0.1, min_child_weight=3, lambda_=0, gamma=0)\n",
    "fine_tuned_model.fit(X_train, Y_train)\n",
    "y_pred = fine_tuned_model.predict(X_test)\n",
    "print(\"Accuracy on testing set = \", accuracy_score(Y_test, y_pred))"
   ]
  }
 ],
 "metadata": {
  "kernelspec": {
   "display_name": "Python 3",
   "language": "python",
   "name": "python3"
  },
  "language_info": {
   "codemirror_mode": {
    "name": "ipython",
    "version": 3
   },
   "file_extension": ".py",
   "mimetype": "text/x-python",
   "name": "python",
   "nbconvert_exporter": "python",
   "pygments_lexer": "ipython3",
   "version": "3.12.0"
  }
 },
 "nbformat": 4,
 "nbformat_minor": 2
}
